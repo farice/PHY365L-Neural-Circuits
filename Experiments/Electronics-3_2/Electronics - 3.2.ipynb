{
 "cells": [
  {
   "cell_type": "code",
   "execution_count": 10,
   "metadata": {
    "collapsed": true
   },
   "outputs": [],
   "source": [
    "import numpy as np\n",
    "import matplotlib.pyplot as plt"
   ]
  },
  {
   "cell_type": "code",
   "execution_count": 3,
   "metadata": {},
   "outputs": [],
   "source": [
    "highpass_sin = np.loadtxt('highpass_sin.csv')"
   ]
  },
  {
   "cell_type": "code",
   "execution_count": 9,
   "metadata": {},
   "outputs": [
    {
     "name": "stdout",
     "output_type": "stream",
     "text": [
      "[0.06572314 0.08213091 0.1031159  0.1291479  0.161154   0.2015699\n",
      " 0.2497682  0.3065536  0.3756997  0.448315   0.5245027  0.5984342\n",
      " 0.6661605  0.7216697  0.7726446  0.8125005  0.8332666  0.8478384\n",
      " 0.8562849  0.8645069  0.8673934  0.8670619  0.8654316  0.8600054\n",
      " 0.8530909  0.8449769  0.8346327  0.8243367  0.8137879  0.8067037\n",
      " 0.8013668  0.7977731  0.7986348  0.7967808  0.7959988  0.795954\n",
      " 0.7950423  0.790548   0.7880021  0.7867212  0.7865965 ]\n"
     ]
    }
   ],
   "source": [
    "amplitudes_hp_sin = print(highpass_sin[:, 1])\n",
    "\n",
    "pl"
   ]
  },
  {
   "cell_type": "code",
   "execution_count": null,
   "metadata": {
    "collapsed": true
   },
   "outputs": [],
   "source": []
  }
 ],
 "metadata": {
  "kernelspec": {
   "display_name": "Python 3",
   "language": "python",
   "name": "python3"
  },
  "language_info": {
   "codemirror_mode": {
    "name": "ipython",
    "version": 3
   },
   "file_extension": ".py",
   "mimetype": "text/x-python",
   "name": "python",
   "nbconvert_exporter": "python",
   "pygments_lexer": "ipython3",
   "version": "3.6.1"
  }
 },
 "nbformat": 4,
 "nbformat_minor": 2
}
